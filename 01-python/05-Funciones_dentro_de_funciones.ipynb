{
 "cells": [
  {
   "cell_type": "code",
   "execution_count": 13,
   "metadata": {},
   "outputs": [],
   "source": [
    "def calculadora(num_uno, num_dos, operacion):\n",
    "    def suma():\n",
    "        print(\"Suma\")\n",
    "        return num_uno + num_dos\n",
    "    \n",
    "    def resta():\n",
    "        print(\"Resta\")\n",
    "        return num_uno - num_dos\n",
    "    \n",
    "    def multiplicacion():\n",
    "        print(\"Multiplicacion\")\n",
    "        return num_uno * num_dos\n",
    "    \n",
    "    def division():\n",
    "        print(\"Division\")\n",
    "        return num_uno / num_dos\n",
    "    \n",
    "    def devolver_respuesta():\n",
    "        \n",
    "        opciones = {\n",
    "            \"suma\": suma,\n",
    "            \"resta\": resta,\n",
    "            \"multiplicacion\": multiplicacion,\n",
    "            \"division\": division\n",
    "        }\n",
    "        \n",
    "        return opciones[operacion]()\n",
    "    \n",
    "    return devolver_respuesta()\n",
    "\n",
    "\n",
    "    \n",
    "    "
   ]
  },
  {
   "cell_type": "code",
   "execution_count": 14,
   "metadata": {},
   "outputs": [
    {
     "name": "stdout",
     "output_type": "stream",
     "text": [
      "Division\n"
     ]
    },
    {
     "data": {
      "text/plain": [
       "0.5"
      ]
     },
     "execution_count": 14,
     "metadata": {},
     "output_type": "execute_result"
    }
   ],
   "source": [
    "calculadora(2, 4, \"division\")"
   ]
  },
  {
   "cell_type": "code",
   "execution_count": 15,
   "metadata": {},
   "outputs": [
    {
     "name": "stdout",
     "output_type": "stream",
     "text": [
      "Ingrese sus datos:mi dato\n"
     ]
    }
   ],
   "source": [
    "solicitud = input(\"Ingrese sus datos:\")"
   ]
  },
  {
   "cell_type": "code",
   "execution_count": null,
   "metadata": {},
   "outputs": [],
   "source": []
  }
 ],
 "metadata": {
  "kernelspec": {
   "display_name": "Python 3",
   "language": "python",
   "name": "python3"
  },
  "language_info": {
   "codemirror_mode": {
    "name": "ipython",
    "version": 3
   },
   "file_extension": ".py",
   "mimetype": "text/x-python",
   "name": "python",
   "nbconvert_exporter": "python",
   "pygments_lexer": "ipython3",
   "version": "3.7.6"
  }
 },
 "nbformat": 4,
 "nbformat_minor": 4
}
