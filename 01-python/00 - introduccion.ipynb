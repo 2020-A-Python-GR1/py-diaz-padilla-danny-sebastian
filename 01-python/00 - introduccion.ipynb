{
 "cells": [
  {
   "cell_type": "markdown",
   "metadata": {},
   "source": [
    "# Título 1\n",
    "## Título 2\n",
    "###### Título 6\n",
    "\n",
    "![alt text](https://github.com/adam-p/markdown-here/raw/master/src/common/images/icon48.png \"Logo Title Text 1\")\n",
    "\n",
    "```javascript\n",
    "var s = \"JavaScript syntax highlighting\";\n",
    "alert(s);\n",
    "```\n",
    " \n",
    "```python\n",
    "s = \"Python syntax highlighting\"\n",
    "print s\n",
    "```\n",
    " \n",
    "```\n",
    "No language indicated, so no syntax highlighting. \n",
    "But let's throw in a <b>tag</b>.\n",
    "```\n",
    "\n",
    "var s = \"JavaScript syntax highlighting\";\n",
    "alert(s);\n",
    "\n",
    "s = \"Python syntax highlighting\"\n",
    "print s\n"
   ]
  },
  {
   "cell_type": "code",
   "execution_count": 1,
   "metadata": {},
   "outputs": [
    {
     "name": "stdout",
     "output_type": "stream",
     "text": [
      "Hola Mundo\n"
     ]
    }
   ],
   "source": [
    "print(\"Hola Mundo\")"
   ]
  },
  {
   "cell_type": "code",
   "execution_count": 2,
   "metadata": {},
   "outputs": [
    {
     "name": "stdout",
     "output_type": "stream",
     "text": [
      "<class 'int'>\n",
      "<class 'float'>\n",
      "<class 'str'>\n",
      "<class 'str'>\n",
      "<class 'str'>\n",
      "<class 'bool'>\n",
      "<class 'bool'>\n",
      "<class 'NoneType'>\n",
      "<class 'float'>\n"
     ]
    }
   ],
   "source": [
    "# No tipado!\n",
    "# Variables Primitivas\n",
    "entero = 4\n",
    "decimales = 1.1\n",
    "nombre = \"Danny\"\n",
    "segundo_nombre = \"Sebastián\"  # segundoNombre está mál, no se debe usar CamelCase\n",
    "apellido = 'Díaz'\n",
    "casado = False\n",
    "estudiante = True\n",
    "hijos = None\n",
    "\n",
    "print(type(entero))\n",
    "print(type(decimales))\n",
    "print(type(nombre))\n",
    "print(type(segundo_nombre))\n",
    "print(type(apellido))\n",
    "print(type(casado))\n",
    "print(type(estudiante))\n",
    "print(type(hijos))\n",
    "print(type(float(\"nan\")))  # Not a number\n"
   ]
  },
  {
   "cell_type": "code",
   "execution_count": 11,
   "metadata": {},
   "outputs": [
    {
     "name": "stdout",
     "output_type": "stream",
     "text": [
      "\n",
      "\n",
      "Lorem ipsum dolor sit amet, \n",
      "consectetur adipiscing elit, \n",
      "sed do eiusmod tempor incididunt ut \n",
      "labore et dolore magna aliqua. \n",
      "\n",
      "At elementum eu facilisis sed odio morbi quis. \n",
      "In arcu cursus euismod quis viverra nibh. \n",
      "Condimentum mattis pellentesque id nibh \n",
      "tortor id aliquet lectus proin. Aenean euismod \n",
      "elementum nisi quis eleifend. Integer malesuada \n",
      "nunc vel risus commodo viverra maecenas accumsan.\n",
      "Eget lorem dolor sed viverra. Vitae tempus quam pellentesque nec nam aliquam sem et. Pellentesque adipiscing commodo elit at imperdiet dui accumsan sit. Augue eget arcu dictum varius duis at. Cursus risus at ultrices mi.\n",
      "\n",
      "\n"
     ]
    }
   ],
   "source": [
    "cadena_de_texto = \"\"\"\n",
    "\n",
    "Lorem ipsum dolor sit amet, \n",
    "consectetur adipiscing elit, \n",
    "sed do eiusmod tempor incididunt ut \n",
    "labore et dolore magna aliqua. \n",
    "\n",
    "At elementum eu facilisis sed odio morbi quis. \n",
    "In arcu cursus euismod quis viverra nibh. \n",
    "Condimentum mattis pellentesque id nibh \n",
    "tortor id aliquet lectus proin. Aenean euismod \n",
    "elementum nisi quis eleifend. Integer malesuada \n",
    "nunc vel risus commodo viverra maecenas accumsan.\n",
    "Eget lorem dolor sed viverra. Vitae tempus quam pellentesque nec nam aliquam sem et. Pellentesque adipiscing commodo elit at imperdiet dui accumsan sit. Augue eget arcu dictum varius duis at. Cursus risus at ultrices mi.\n",
    "\n",
    "\"\"\"\n",
    "\n",
    "print(cadena_de_texto)"
   ]
  },
  {
   "cell_type": "code",
   "execution_count": 3,
   "metadata": {},
   "outputs": [
    {
     "name": "stdout",
     "output_type": "stream",
     "text": [
      "4\n",
      "Danny\n"
     ]
    }
   ],
   "source": [
    "print(entero)\n",
    "entero = decimales\n",
    "entero = hijos\n",
    "entero = casado\n",
    "entero = nombre\n",
    "print(entero)"
   ]
  },
  {
   "cell_type": "code",
   "execution_count": 3,
   "metadata": {},
   "outputs": [
    {
     "name": "stdout",
     "output_type": "stream",
     "text": [
      "Truty\n",
      "Falsy\n",
      "16-06-2020\n",
      "Falsy\n",
      "Truty\n",
      "Falsy\n",
      "Truty\n",
      "Falsy\n"
     ]
    }
   ],
   "source": [
    "# Condiciones\n",
    "# Truty - Falsy\n",
    "\n",
    "tuplas = (1, 2, 3)  # Arreglos que no se pueden modificar\n",
    "lista = [1, 2, 3] # Arreglos que se pueden modificar\n",
    "diccionario = {\n",
    "    \"nombre\": \"Danny\"\n",
    "}\n",
    "\n",
    "if 'Danny':\n",
    "    print('Truty')\n",
    "else:\n",
    "    print('Falsy')\n",
    "    \n",
    "    \n",
    "if '':\n",
    "    print('Truty')\n",
    "else:\n",
    "    print('Falsy')\n",
    "    \n"
   ]
  },
  {
   "cell_type": "code",
   "execution_count": 8,
   "metadata": {},
   "outputs": [
    {
     "name": "stdout",
     "output_type": "stream",
     "text": [
      "16-06-2020\n",
      "Falsy\n",
      "Truty\n",
      "Falsy\n",
      "Truty\n",
      "Truty\n",
      "Truty\n",
      "Falsy\n",
      "Truty\n",
      "Falsy\n",
      "Truty\n",
      "Falsy\n",
      "Truty\n"
     ]
    }
   ],
   "source": [
    "# clase 16-06-2020\n",
    "\n",
    "print('16-06-2020')\n",
    "\n",
    "nulo = None\n",
    "if nulo:  # Falsy\n",
    "    print('Truty')\n",
    "else:\n",
    "    print('Falsy')\n",
    "    \n",
    "if 1:  # Truty\n",
    "    print('Truty')\n",
    "else:\n",
    "    print('Falsy')\n",
    "\n",
    "if 0:  # Falsy\n",
    "    print('Truty')\n",
    "else:\n",
    "    print('Falsy')\n",
    "    \n",
    "if -1:  # Truty\n",
    "    print('Truty')\n",
    "else:\n",
    "    print('Falsy')\n",
    "    \n",
    "if -1.1:  # Truty\n",
    "    print('Truty')\n",
    "else:\n",
    "    print('Falsy')\n",
    "    \n",
    "if 1.2:  # Truty\n",
    "    print('Truty')\n",
    "else:\n",
    "    print('Falsy')\n",
    "\n",
    "if ():  # Falsy\n",
    "    print('Truty')\n",
    "else:\n",
    "    print('Falsy')\n",
    "    \n",
    "if tuplas:  # Truty\n",
    "    print('Truty')\n",
    "else:\n",
    "    print('Falsy')\n",
    "    \n",
    "if []:  # Falsy\n",
    "    print('Truty')\n",
    "else:\n",
    "    print('Falsy')\n",
    "    \n",
    "if [1, 2, 3]:  # Truty\n",
    "    print('Truty')\n",
    "else:\n",
    "    print('Falsy')\n",
    "    \n",
    "\n",
    "if {}:  # Falsy\n",
    "    print('Truty')\n",
    "else:\n",
    "    print('Falsy')\n",
    "    \n",
    "    \n",
    "nombre = \"nombre\"\n",
    "if {nombre: \"Danny\"}:  # Truty\n",
    "    print('Truty')\n",
    "else:\n",
    "    print('Falsy')\n"
   ]
  },
  {
   "cell_type": "code",
   "execution_count": 9,
   "metadata": {},
   "outputs": [],
   "source": [
    "arreglo = [1, 2, 3, 4, 5, 6, 7, 8, 9, 10]\n"
   ]
  },
  {
   "cell_type": "code",
   "execution_count": 27,
   "metadata": {},
   "outputs": [
    {
     "data": {
      "text/plain": [
       "1.2"
      ]
     },
     "execution_count": 27,
     "metadata": {},
     "output_type": "execute_result"
    }
   ],
   "source": [
    "arreglo[0:3]  # [0, 3]\n",
    "arreglo[5:]  # Hasta el final\n",
    "arreglo[:7]  # Desde el principio\n",
    "arreglo[-10]  # El índice negativo empieza por el final y en -1\n",
    "arreglo[3:-2]\n",
    "arreglo[-8:8]\n",
    "arreglo[-4:-1]\n",
    "arreglo[-7:]\n",
    "arreglo[:-3]\n",
    "arreglo[:]  # Toma todo el arreglo, es util para clonar\n",
    "\n",
    "arreglo_tupla = (1, 2, 3, 4, 5, 6, 7, 8, 9, 10)\n",
    "arreglo_tupla[5:9]\n",
    "\n",
    "diccionario = {\n",
    "    \"nombre\": \"Danny\",\n",
    "    \"apellido\": \"Díaz\",\n",
    "    \"sueldo\": 1.2,\n",
    "}\n",
    "\n",
    "diccionario[\"nombre\"]\n",
    "diccionario[\"apellido\"]\n",
    "diccionario[\"sueldo\"]"
   ]
  },
  {
   "cell_type": "code",
   "execution_count": 33,
   "metadata": {},
   "outputs": [
    {
     "name": "stdout",
     "output_type": "stream",
     "text": [
      "False\n",
      "True\n",
      "True\n"
     ]
    }
   ],
   "source": [
    "print(12 in arreglo)\n",
    "print(3 in tuplas)\n",
    "print(\"nombre\" in diccionario)"
   ]
  },
  {
   "cell_type": "code",
   "execution_count": 32,
   "metadata": {},
   "outputs": [
    {
     "name": "stdout",
     "output_type": "stream",
     "text": [
      "10\n",
      "10\n",
      "3\n"
     ]
    }
   ],
   "source": [
    "print(len(arreglo))\n",
    "print(len(arreglo_tupla))\n",
    "print(len(diccionario))\n"
   ]
  },
  {
   "cell_type": "code",
   "execution_count": 36,
   "metadata": {},
   "outputs": [],
   "source": [
    "# arreglo_tupla[0] = 2\n",
    "arreglo[0] = 2"
   ]
  },
  {
   "cell_type": "code",
   "execution_count": 37,
   "metadata": {},
   "outputs": [],
   "source": [
    "# arreglo.pop\n",
    "# arreglo.append\n",
    "# arreglo.insert"
   ]
  },
  {
   "cell_type": "code",
   "execution_count": 42,
   "metadata": {},
   "outputs": [
    {
     "name": "stdout",
     "output_type": "stream",
     "text": [
      "Lista\n",
      "2\n",
      "2\n",
      "3\n",
      "4\n",
      "5\n",
      "6\n",
      "7\n",
      "8\n",
      "9\n",
      "10\n",
      "Tupla\n",
      "1\n",
      "2\n",
      "3\n",
      "4\n",
      "5\n",
      "6\n",
      "7\n",
      "8\n",
      "9\n",
      "10\n",
      "Diccionario\n",
      "nombre\n",
      "apellido\n",
      "sueldo\n"
     ]
    }
   ],
   "source": [
    "print(\"Lista\")\n",
    "for numero_lista in arreglo:\n",
    "    print(numero_lista)\n",
    "\n",
    "print(\"Tupla\")\n",
    "for numero_lista in arreglo_tupla:\n",
    "    print(numero_lista)\n",
    "\n",
    "print(\"Diccionario\")\n",
    "for key in diccionario:\n",
    "    print(key)\n",
    "    "
   ]
  },
  {
   "cell_type": "code",
   "execution_count": 44,
   "metadata": {},
   "outputs": [
    {
     "name": "stdout",
     "output_type": "stream",
     "text": [
      "0\n",
      "1\n",
      "2\n",
      "3\n",
      "4\n",
      "5\n",
      "6\n",
      "7\n",
      "8\n",
      "9\n"
     ]
    }
   ],
   "source": [
    "contador = 0\n",
    "while contador < 10:\n",
    "    print(contador)\n",
    "    contador += 1"
   ]
  },
  {
   "cell_type": "code",
   "execution_count": 45,
   "metadata": {},
   "outputs": [],
   "source": [
    "# Las llaves deben ser strings en lo posible\n",
    "danny = {\n",
    "    True: \"Danny\",  # no utilizar, porque tiene comportamiento raro\n",
    "    False: \"Díaz\",  # no utilizar, --------------------------------\n",
    "    1: 12.2,\n",
    "    1.1: 89,\n",
    "    'edad': 31,\n",
    "    'mascotas': [{\"nombre\": \"cachetes\"}],\n",
    "    None: None\n",
    "}"
   ]
  },
  {
   "cell_type": "code",
   "execution_count": 49,
   "metadata": {},
   "outputs": [],
   "source": [
    "danny['edad'] = 22\n",
    "danny['apellido'] = 'Díaz'  # este es un nuevo valor\n",
    "danny['mascotas'][0]['nombre'] = 'Panda'"
   ]
  },
  {
   "cell_type": "code",
   "execution_count": 51,
   "metadata": {},
   "outputs": [
    {
     "name": "stdout",
     "output_type": "stream",
     "text": [
      "{True: 12.2, False: 'Díaz', 1.1: 89, 'edad': 22, 'mascotas': [{'nombre': 'cachetes'}], None: None, 'apellido': 'Díaz'}\n"
     ]
    }
   ],
   "source": [
    "print(danny)"
   ]
  },
  {
   "cell_type": "code",
   "execution_count": 56,
   "metadata": {},
   "outputs": [
    {
     "name": "stdout",
     "output_type": "stream",
     "text": [
      "<class 'dict_keys'>\n",
      "dict_keys([True, False, 1.1, 'edad', 'mascotas', None, 'apellido'])\n"
     ]
    }
   ],
   "source": [
    "print(type(danny.keys()))\n",
    "print(danny.keys())"
   ]
  },
  {
   "cell_type": "code",
   "execution_count": 53,
   "metadata": {},
   "outputs": [
    {
     "data": {
      "text/plain": [
       "dict_values([12.2, 'Díaz', 89, 22, [{'nombre': 'cachetes'}], None, 'Díaz'])"
      ]
     },
     "execution_count": 53,
     "metadata": {},
     "output_type": "execute_result"
    }
   ],
   "source": [
    "danny.values()"
   ]
  },
  {
   "cell_type": "code",
   "execution_count": 57,
   "metadata": {},
   "outputs": [
    {
     "name": "stdout",
     "output_type": "stream",
     "text": [
      "True\n",
      "False\n",
      "1.1\n",
      "edad\n",
      "mascotas\n",
      "None\n",
      "apellido\n"
     ]
    }
   ],
   "source": [
    "for llave in danny.keys():\n",
    "    print(llave)"
   ]
  },
  {
   "cell_type": "code",
   "execution_count": 58,
   "metadata": {},
   "outputs": [
    {
     "name": "stdout",
     "output_type": "stream",
     "text": [
      "12.2\n",
      "Díaz\n",
      "89\n",
      "22\n",
      "[{'nombre': 'cachetes'}]\n",
      "None\n",
      "Díaz\n"
     ]
    }
   ],
   "source": [
    "for valor in danny.values():\n",
    "    print(valor)"
   ]
  },
  {
   "cell_type": "code",
   "execution_count": 61,
   "metadata": {},
   "outputs": [
    {
     "name": "stdout",
     "output_type": "stream",
     "text": [
      "True\n"
     ]
    }
   ],
   "source": [
    "print(1 == 1 or 2 == 2)"
   ]
  },
  {
   "cell_type": "code",
   "execution_count": 62,
   "metadata": {},
   "outputs": [
    {
     "name": "stdout",
     "output_type": "stream",
     "text": [
      "False\n"
     ]
    }
   ],
   "source": [
    "print(1 != 1 and 2 != 2)"
   ]
  },
  {
   "cell_type": "code",
   "execution_count": null,
   "metadata": {},
   "outputs": [],
   "source": []
  }
 ],
 "metadata": {
  "kernelspec": {
   "display_name": "Python 3",
   "language": "python",
   "name": "python3"
  },
  "language_info": {
   "codemirror_mode": {
    "name": "ipython",
    "version": 3
   },
   "file_extension": ".py",
   "mimetype": "text/x-python",
   "name": "python",
   "nbconvert_exporter": "python",
   "pygments_lexer": "ipython3",
   "version": "3.7.6"
  }
 },
 "nbformat": 4,
 "nbformat_minor": 4
}
