{
 "cells": [
  {
   "cell_type": "markdown",
   "metadata": {},
   "source": [
    "# Título 1\n",
    "## Título 2\n",
    "###### Título 6\n",
    "\n",
    "![alt text](https://github.com/adam-p/markdown-here/raw/master/src/common/images/icon48.png \"Logo Title Text 1\")\n",
    "\n",
    "```javascript\n",
    "var s = \"JavaScript syntax highlighting\";\n",
    "alert(s);\n",
    "```\n",
    " \n",
    "```python\n",
    "s = \"Python syntax highlighting\"\n",
    "print s\n",
    "```\n",
    " \n",
    "```\n",
    "No language indicated, so no syntax highlighting. \n",
    "But let's throw in a <b>tag</b>.\n",
    "```\n",
    "\n",
    "var s = \"JavaScript syntax highlighting\";\n",
    "alert(s);\n",
    "\n",
    "s = \"Python syntax highlighting\"\n",
    "print s\n"
   ]
  },
  {
   "cell_type": "code",
   "execution_count": 1,
   "metadata": {},
   "outputs": [
    {
     "name": "stdout",
     "output_type": "stream",
     "text": [
      "Hola Mundo\n"
     ]
    }
   ],
   "source": [
    "print(\"Hola Mundo\")"
   ]
  },
  {
   "cell_type": "code",
   "execution_count": 2,
   "metadata": {},
   "outputs": [
    {
     "name": "stdout",
     "output_type": "stream",
     "text": [
      "<class 'int'>\n",
      "<class 'float'>\n",
      "<class 'str'>\n",
      "<class 'str'>\n",
      "<class 'str'>\n",
      "<class 'bool'>\n",
      "<class 'bool'>\n",
      "<class 'NoneType'>\n",
      "<class 'float'>\n"
     ]
    }
   ],
   "source": [
    "# No tipado!\n",
    "# Variables Primitivas\n",
    "entero = 4\n",
    "decimales = 1.1\n",
    "nombre = \"Danny\"\n",
    "segundo_nombre = \"Sebastián\"  # segundoNombre está mál, no se debe usar CamelCase\n",
    "apellido = 'Díaz'\n",
    "casado = False\n",
    "estudiante = True\n",
    "hijos = None\n",
    "\n",
    "print(type(entero))\n",
    "print(type(decimales))\n",
    "print(type(nombre))\n",
    "print(type(segundo_nombre))\n",
    "print(type(apellido))\n",
    "print(type(casado))\n",
    "print(type(estudiante))\n",
    "print(type(hijos))\n",
    "print(type(float(\"nan\")))  # Not a number\n"
   ]
  },
  {
   "cell_type": "code",
   "execution_count": 11,
   "metadata": {},
   "outputs": [
    {
     "name": "stdout",
     "output_type": "stream",
     "text": [
      "\n",
      "\n",
      "Lorem ipsum dolor sit amet, \n",
      "consectetur adipiscing elit, \n",
      "sed do eiusmod tempor incididunt ut \n",
      "labore et dolore magna aliqua. \n",
      "\n",
      "At elementum eu facilisis sed odio morbi quis. \n",
      "In arcu cursus euismod quis viverra nibh. \n",
      "Condimentum mattis pellentesque id nibh \n",
      "tortor id aliquet lectus proin. Aenean euismod \n",
      "elementum nisi quis eleifend. Integer malesuada \n",
      "nunc vel risus commodo viverra maecenas accumsan.\n",
      "Eget lorem dolor sed viverra. Vitae tempus quam pellentesque nec nam aliquam sem et. Pellentesque adipiscing commodo elit at imperdiet dui accumsan sit. Augue eget arcu dictum varius duis at. Cursus risus at ultrices mi.\n",
      "\n",
      "\n"
     ]
    }
   ],
   "source": [
    "cadena_de_texto = \"\"\"\n",
    "\n",
    "Lorem ipsum dolor sit amet, \n",
    "consectetur adipiscing elit, \n",
    "sed do eiusmod tempor incididunt ut \n",
    "labore et dolore magna aliqua. \n",
    "\n",
    "At elementum eu facilisis sed odio morbi quis. \n",
    "In arcu cursus euismod quis viverra nibh. \n",
    "Condimentum mattis pellentesque id nibh \n",
    "tortor id aliquet lectus proin. Aenean euismod \n",
    "elementum nisi quis eleifend. Integer malesuada \n",
    "nunc vel risus commodo viverra maecenas accumsan.\n",
    "Eget lorem dolor sed viverra. Vitae tempus quam pellentesque nec nam aliquam sem et. Pellentesque adipiscing commodo elit at imperdiet dui accumsan sit. Augue eget arcu dictum varius duis at. Cursus risus at ultrices mi.\n",
    "\n",
    "\"\"\"\n",
    "\n",
    "print(cadena_de_texto)"
   ]
  },
  {
   "cell_type": "code",
   "execution_count": 3,
   "metadata": {},
   "outputs": [
    {
     "name": "stdout",
     "output_type": "stream",
     "text": [
      "4\n",
      "Danny\n"
     ]
    }
   ],
   "source": [
    "print(entero)\n",
    "entero = decimales\n",
    "entero = hijos\n",
    "entero = casado\n",
    "entero = nombre\n",
    "print(entero)"
   ]
  },
  {
   "cell_type": "code",
   "execution_count": 5,
   "metadata": {},
   "outputs": [
    {
     "name": "stdout",
     "output_type": "stream",
     "text": [
      "Truty\n",
      "Falsy\n"
     ]
    }
   ],
   "source": [
    "# Condiciones\n",
    "# Truty - Falsy\n",
    "\n",
    "tuplas = (1, 2, 3)  # Arreglos que no se pueden modificar\n",
    "lista = [1, 2, 3] # Arreglos que se pueden modificar\n",
    "diccionario = {\n",
    "    \"nombre\": \"Danny\"\n",
    "}\n",
    "\n",
    "if 'Danny':\n",
    "    print('Truty')\n",
    "else:\n",
    "    print('Falsy')\n",
    "    \n",
    "    \n",
    "if '':\n",
    "    print('Truty')\n",
    "else:\n",
    "    print('Falsy')\n"
   ]
  },
  {
   "cell_type": "code",
   "execution_count": null,
   "metadata": {},
   "outputs": [],
   "source": []
  }
 ],
 "metadata": {
  "kernelspec": {
   "display_name": "Python 3",
   "language": "python",
   "name": "python3"
  },
  "language_info": {
   "codemirror_mode": {
    "name": "ipython",
    "version": 3
   },
   "file_extension": ".py",
   "mimetype": "text/x-python",
   "name": "python",
   "nbconvert_exporter": "python",
   "pygments_lexer": "ipython3",
   "version": "3.7.6"
  }
 },
 "nbformat": 4,
 "nbformat_minor": 4
}
