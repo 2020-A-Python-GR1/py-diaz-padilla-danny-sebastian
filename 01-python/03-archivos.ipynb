{
 "cells": [
  {
   "cell_type": "code",
   "execution_count": 5,
   "metadata": {},
   "outputs": [
    {
     "name": "stdout",
     "output_type": "stream",
     "text": [
      "['Buenos dias']\n",
      "<class 'list'>\n"
     ]
    }
   ],
   "source": [
    "try:\n",
    "    path = \"./frases.txt\"\n",
    "    archivo = open(path)\n",
    "    # linea_uno = archivo.readline()\n",
    "    linea_uno = archivo.readlines()\n",
    "    print(linea_uno)\n",
    "    print(type(linea_uno))\n",
    "    archivo.close()\n",
    "except Exception as Error:\n",
    "    print(\"Error leyendo archivo\")"
   ]
  },
  {
   "cell_type": "code",
   "execution_count": 8,
   "metadata": {},
   "outputs": [],
   "source": [
    "try:\n",
    "    path = \"./frases.txt\"\n",
    "    # archivo = open(path, 'w')\n",
    "    archivo = open(path, 'a')\n",
    "    archivo.write('Buenas tardes')\n",
    "    archivo.close()\n",
    "except Exception as Error:\n",
    "    print(\"Error leyendo archivo\")"
   ]
  },
  {
   "cell_type": "code",
   "execution_count": null,
   "metadata": {},
   "outputs": [],
   "source": []
  }
 ],
 "metadata": {
  "kernelspec": {
   "display_name": "Python 3",
   "language": "python",
   "name": "python3"
  },
  "language_info": {
   "codemirror_mode": {
    "name": "ipython",
    "version": 3
   },
   "file_extension": ".py",
   "mimetype": "text/x-python",
   "name": "python",
   "nbconvert_exporter": "python",
   "pygments_lexer": "ipython3",
   "version": "3.7.6"
  }
 },
 "nbformat": 4,
 "nbformat_minor": 4
}
