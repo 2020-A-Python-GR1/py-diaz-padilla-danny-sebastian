{
 "cells": [
  {
   "cell_type": "code",
   "execution_count": 6,
   "metadata": {},
   "outputs": [],
   "source": [
    "# skdfskj\n",
    "# sdflkj sdkfjsk SyntaxError\n",
    "# 0/0 ZeroDivisionError\n",
    "# a = {'b': 'b'}\n",
    "# a['c']  KeyError\n"
   ]
  },
  {
   "cell_type": "code",
   "execution_count": 16,
   "metadata": {},
   "outputs": [
    {
     "name": "stdout",
     "output_type": "stream",
     "text": [
      "name 'aslkfajsfk' is not defined\n"
     ]
    }
   ],
   "source": [
    "try:\n",
    "    aslkfajsfk\n",
    "    # 0/0\n",
    "    #a = {'b': 'b'}\n",
    "    # a['c']  \n",
    "except NameError as name_error:\n",
    "    print(\"Name error, variable no declarada\")\n",
    "except (ZeroDivisionError, KeyError) as error_comun:\n",
    "    print(\"Error común en python\")\n",
    "except Exception as error:\n",
    "    print(error)"
   ]
  },
  {
   "cell_type": "code",
   "execution_count": null,
   "metadata": {},
   "outputs": [],
   "source": [
    "\n"
   ]
  }
 ],
 "metadata": {
  "kernelspec": {
   "display_name": "Python 3",
   "language": "python",
   "name": "python3"
  },
  "language_info": {
   "codemirror_mode": {
    "name": "ipython",
    "version": 3
   },
   "file_extension": ".py",
   "mimetype": "text/x-python",
   "name": "python",
   "nbconvert_exporter": "python",
   "pygments_lexer": "ipython3",
   "version": "3.7.6"
  }
 },
 "nbformat": 4,
 "nbformat_minor": 4
}
